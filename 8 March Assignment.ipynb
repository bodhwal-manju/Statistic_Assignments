{
 "cells": [
  {
   "cell_type": "markdown",
   "id": "9024de53-4ea4-44b4-a6bb-81fd0dc9b689",
   "metadata": {},
   "source": [
    "# Q1. What is the Probability density function?"
   ]
  },
  {
   "cell_type": "markdown",
   "id": "b2928197-210f-4bdb-9fd5-68e461e0b202",
   "metadata": {},
   "source": [
    "The probability density function (PDF) is a function that describes the relative likelihood of a random variable taking on a certain value. In other words, it provides a mathematical description of the probability distribution of a continuous random variable.\n",
    "\n",
    "The PDF is defined as the derivative of the cumulative distribution function (CDF), which is a function that gives the probability that a random variable is less than or equal to a certain value. The PDF is represented by a curve, and the area under the curve between two points represents the probability that the random variable will take on a value within that range.\n",
    "\n",
    "The properties of the PDF depend on the type of probability distribution being considered. For example, the PDF of a normal distribution is a bell-shaped curve, while the PDF of a uniform distribution is a flat line. The PDF is useful in many applications, including statistical inference, risk analysis, and machine learning."
   ]
  },
  {
   "cell_type": "markdown",
   "id": "cffda134-3000-4ed5-a199-749d03d19fe2",
   "metadata": {},
   "source": [
    "# Q2. What are the types of Probability distribution?"
   ]
  },
  {
   "cell_type": "markdown",
   "id": "ba1eea59-587e-4c95-a144-5dafc3f8fb5c",
   "metadata": {},
   "source": [
    "There are many different types of probability distributions, but some of the most commonly used distributions in statistics and probability theory include:\n",
    "\n",
    "1.Normal distribution: Also known as the Gaussian distribution, this is a continuous probability distribution that is symmetric and bell-shaped. It is often used to model real-world phenomena, such as the heights or weights of people, and many statistical tests assume that data follows a normal distribution.\n",
    "\n",
    "2.Binomial distribution: This is a discrete probability distribution that describes the number of successes in a fixed number of independent trials, each with the same probability of success. For example, it can be used to model the number of heads in a series of coin flips.\n",
    "\n",
    "3.Poisson distribution: This is a discrete probability distribution that describes the number of occurrences of a rare event in a fixed amount of time or space. It is often used to model the number of customers arriving at a store or the number of defects in a manufacturing process.\n",
    "\n",
    "4.Exponential distribution: This is a continuous probability distribution that describes the time between occurrences of a rare event in a Poisson process. It is often used to model waiting times or survival times.\n",
    "\n",
    "5.Uniform distribution: This is a continuous probability distribution where all values between two endpoints are equally likely. It is often used to model random numbers or events that have no specific bias or preference.\n",
    "\n",
    "There are many other probability distributions that are used in different fields, such as the Student's t-distribution, the chi-squared distribution, and the Weibull distribution, among others."
   ]
  },
  {
   "cell_type": "markdown",
   "id": "e178e7cd-aae2-4a22-bab3-21158c361a63",
   "metadata": {},
   "source": [
    "# Q3. Write a Python function to calculate the probability density function of a normal distribution with given mean and standard deviation at a given point."
   ]
  },
  {
   "cell_type": "markdown",
   "id": "0d865273-1359-430d-8880-bc169bf22897",
   "metadata": {},
   "source": [
    "Here's an example Python function that calculates the probability density function of a normal distribution at a given point, given its mean and standard deviation using the SciPy library:"
   ]
  },
  {
   "cell_type": "code",
   "execution_count": 1,
   "id": "57c86bd6-34bb-4958-a89e-c5df9c8caaf9",
   "metadata": {},
   "outputs": [],
   "source": [
    "from scipy.stats import norm\n",
    "def pdf_normal_distribution(x,mean,std_dev):\n",
    "    \n",
    "     #Calculate the probability density function of a normal distribution at a given point\n",
    "    # with a given mean and standard deviation\n",
    "    pdf=norm.pdf(x,loc=mean,scale=std_dev)\n",
    "    return pdf\n",
    "    "
   ]
  },
  {
   "cell_type": "markdown",
   "id": "5e7583f7-e06d-493b-85d1-cfb2affe1bca",
   "metadata": {},
   "source": [
    "To use this function, you would provide a value for x, which represents the point at which you want to evaluate the PDF, as well as the mean and std_dev parameters of the normal distribution. For example:"
   ]
  },
  {
   "cell_type": "code",
   "execution_count": 2,
   "id": "5d2b40f7-54c1-444a-b425-62995e17b70b",
   "metadata": {},
   "outputs": [
    {
     "data": {
      "text/plain": [
       "0.01752830049356854"
      ]
     },
     "execution_count": 2,
     "metadata": {},
     "output_type": "execute_result"
    }
   ],
   "source": [
    "pdf_normal_distribution(2.5,0,1)"
   ]
  },
  {
   "cell_type": "markdown",
   "id": "47ffadb3-c419-49f1-aae6-00e4e5515032",
   "metadata": {},
   "source": [
    "This would return the PDF of a normal distribution with mean 0 and standard deviation 1, evaluated at x=2.5."
   ]
  },
  {
   "cell_type": "markdown",
   "id": "6df41fc7-80c7-44a3-99c4-e3437d719df3",
   "metadata": {},
   "source": [
    " # Q4. What are the properties of Binomial distribution? Give two examples of events where binomial distribution can be applied."
   ]
  },
  {
   "cell_type": "markdown",
   "id": "d04504f9-5990-4b80-9dcb-4361c1a0f52b",
   "metadata": {},
   "source": [
    "The properties of a binomial distribution are:\n",
    "\n",
    "1.The experiment consists of a fixed number of trials, denoted by n.\n",
    "2.Each trial has only two possible outcomes, which are usually called \"success\" and \"failure\".\n",
    "3.The probability of success is constant for each trial and denoted by p.\n",
    "4.The trials are independent of each other.\n",
    "Two examples of events where a binomial distribution can be applied are:\n",
    "\n",
    "1.Flipping a coin: Suppose you flip a fair coin 10 times and want to know the probability of getting exactly 5 heads. This can be modeled using a binomial distribution, where n=10, p=0.5 (since the coin is fair and the probability of heads is 0.5), and the number of successes (k) is 5.\n",
    "2.Product quality control: Suppose a manufacturer wants to test the quality of a product by inspecting a sample of 50 items and counting the number of defective items. If the defect rate is known to be 10%, then the probability of getting a certain number of defective items can be modeled using a binomial distribution, where n=50, p=0.1, and the number of successes (k) is the number of defective items in the sample."
   ]
  },
  {
   "cell_type": "markdown",
   "id": "37580c9d-3eaf-46b3-bd8c-6785a762d4c7",
   "metadata": {},
   "source": [
    "# Q5. Generate a random sample of size 1000 from a binomial distribution with probability of success 0.4 and plot a histogram of the results using matplotlib.\n",
    "\n"
   ]
  },
  {
   "cell_type": "code",
   "execution_count": 11,
   "id": "fd5920e6-63ad-4734-a7d4-b23b43456754",
   "metadata": {},
   "outputs": [
    {
     "data": {
      "image/png": "[encoded data removed]",
      "text/plain": [
       "<Figure size 640x480 with 1 Axes>"
      ]
     },
     "metadata": {},
     "output_type": "display_data"
    }
   ],
   "source": [
    "import matplotlib.pyplot as plt\n",
    "import numpy as np\n",
    "\n",
    "# Set the seed for reproducibility\n",
    "np.random.seed(42)\n",
    "\n",
    "# Generate the random sample\n",
    "sample_size = 1000\n",
    "probability_success = 0.4\n",
    "sample = np.random.binomial(1, probability_success, sample_size)\n",
    "\n",
    "# Plotting the histogram\n",
    "plt.hist(sample, bins=2, edgecolor='black')\n",
    "plt.xlabel('Success or Failure')\n",
    "plt.ylabel('Frequency')\n",
    "plt.title('Binomial Distribution Sample')\n",
    "plt.xticks([0, 1], ['Failure', 'Success'])\n",
    "plt.show()\n"
   ]
  },
  {
   "cell_type": "markdown",
   "id": "05bc0cd0-ed72-4b47-b5f0-6f03b2d3e064",
   "metadata": {},
   "source": [
    "# Q6. Write a Python function to calculate the cumulative distribution function of a Poisson distribution with given mean at a given point."
   ]
  },
  {
   "cell_type": "code",
   "execution_count": 12,
   "id": "dba3b503-7c72-426b-870a-486d3e783e6e",
   "metadata": {},
   "outputs": [],
   "source": [
    "import math\n",
    "def poisson_cdf(mu,k):\n",
    "    cdf=0\n",
    "    \"\"\"Calculate the cumulative distribution function (CDF) of a Poisson distribution with mean mu at point k.\"\"\"\n",
    "    for i in range(k+1):\n",
    "        cdf+=math.exp(-mu)*mu**i/math.factorial(i)\n",
    "    return cdf"
   ]
  },
  {
   "cell_type": "markdown",
   "id": "f605003f-5a40-4aee-b32d-44c62ccb1f84",
   "metadata": {},
   "source": [
    "This function uses the formula for the Poisson distribution CDF, which is:\n",
    "\n",
    "CDF(k) = sum(i=0 to k) exp(-mu) * mu^i / i!\n",
    "\n",
    "where mu is the mean and k is the point at which the CDF is calculated.\n",
    "\n",
    "The math module is used to calculate the exponential and factorial functions needed for the formula."
   ]
  },
  {
   "cell_type": "code",
   "execution_count": 13,
   "id": "1e44c719-1826-4959-9835-a4700d8d30c5",
   "metadata": {},
   "outputs": [
    {
     "data": {
      "text/plain": [
       "0.42319008112684353"
      ]
     },
     "execution_count": 13,
     "metadata": {},
     "output_type": "execute_result"
    }
   ],
   "source": [
    "poisson_cdf(3,2)"
   ]
  },
  {
   "cell_type": "markdown",
   "id": "dc3a9b6e-c552-408d-82a6-fd2737e76556",
   "metadata": {},
   "source": [
    "This means that the probability of observing 2 or fewer events in a Poisson process with a mean of 3 is approximately 0.423."
   ]
  },
  {
   "cell_type": "markdown",
   "id": "43beca0d-0c13-4e69-ab6d-65a0bacc3f72",
   "metadata": {},
   "source": [
    "# Q7. How Binomial distribution different from Poisson distribution?"
   ]
  },
  {
   "cell_type": "markdown",
   "id": "8e2b4311-f84b-4dc6-8f75-7157eef61df9",
   "metadata": {},
   "source": [
    "Binomial distribution and Poisson distribution are two commonly used probability distributions, but they have different characteristics and are used in different situations.\n",
    "\n",
    "The main differences between the two distributions are:\n",
    "\n",
    "1.The Binomial distribution is used when there are a fixed number of trials, each trial is independent, and there are only two possible outcomes (success or failure). The Poisson distribution is used when the number of events in a fixed interval of time or space follows a Poisson process, where the events occur independently and at a constant rate.\n",
    "\n",
    "2.In the Binomial distribution, the probability of success (p) is constant for each trial. In the Poisson distribution, the mean (mu) is constant, but the probability of observing a certain number of events in a given interval depends on the length of the interval.\n",
    "\n",
    "3.The Binomial distribution is discrete, meaning that it is defined only for integer values of the number of successes. The Poisson distribution is also discrete, but it can be approximated by a continuous distribution (the normal distribution) for large values of mu.\n",
    "\n",
    "4.The Binomial distribution has two parameters: the number of trials (n) and the probability of success (p). The Poisson distribution has only one parameter: the mean (mu).\n",
    "\n",
    "5.The Binomial distribution is symmetric for p=0.5, meaning that the probability of getting k successes is the same as the probability of getting n-k failures. The Poisson distribution is skewed to the right, meaning that it has a longer tail on the right-hand side.\n",
    "\n",
    "In summary, the Binomial distribution is used for counting the number of successes in a fixed number of independent trials, while the Poisson distribution is used for counting the number of events in a fixed interval of time or space in a Poisson process."
   ]
  },
  {
   "cell_type": "markdown",
   "id": "6475ef41-5aa6-4feb-a74f-5ff69835280f",
   "metadata": {},
   "source": [
    "# Q8. Generate a random sample of size 1000 from a Poisson distribution with mean 5 and calculate the sample mean and variance."
   ]
  },
  {
   "cell_type": "code",
   "execution_count": 14,
   "id": "31b5edcf-a2b9-40af-a796-17fb7f3cb9a1",
   "metadata": {},
   "outputs": [
    {
     "name": "stdout",
     "output_type": "stream",
     "text": [
      "Sample mean:  4.919\n",
      "Sample Varience: 5.030439\n"
     ]
    }
   ],
   "source": [
    "import numpy as np\n",
    "np.random.seed(123)\n",
    "sample=np.random.poisson(lam=5,size=1000)\n",
    "sample_mean=np.mean(sample)\n",
    "sample_variance=np.var(sample)\n",
    "print(\"Sample mean: \",sample_mean)\n",
    "print(\"Sample Varience:\",sample_variance)"
   ]
  },
  {
   "cell_type": "markdown",
   "id": "6a11c9a2-696e-4151-a4c8-f01b8a300262",
   "metadata": {},
   "source": [
    "# Q9. How mean and variance are related in Binomial distribution and Poisson distribution? "
   ]
  },
  {
   "cell_type": "markdown",
   "id": "9cab7f24-dcd1-4695-b9ea-4ae7af15cbff",
   "metadata": {},
   "source": [
    "In both the Binomial and Poisson distributions, the mean and variance are related in a similar way:\n",
    "\n",
    "For a Binomial distribution with parameters n (number of trials) and p (probability of success), the mean and variance are given by:\n",
    "\n",
    "mean = n * p variance = n * p * (1 - p) For a Poisson distribution with parameter mu (mean), the mean and variance are both equal to mu:\n",
    "\n",
    "mean = mu variance = mu So, in both distributions, the variance is a function of the mean. For the Binomial distribution, the variance depends on both n and p, while for the Poisson distribution, the variance is solely determined by the mean mu.\n",
    "\n",
    "In other words, as the mean of the Binomial or Poisson distribution increases, so does its variance. However, for the Poisson distribution, the mean and variance are always equal, while for the Binomial distribution, the variance depends on the value of p and the number of trials n."
   ]
  },
  {
   "cell_type": "markdown",
   "id": "e9e1765d-6e73-4415-8327-2fee971c41f9",
   "metadata": {},
   "source": [
    "# Q10. In normal distribution with respect to mean position, where does the least frequent data appear?"
   ]
  },
  {
   "cell_type": "markdown",
   "id": "4eb47f3f-1a3f-43a5-ac4b-5a6bd6dc2eb9",
   "metadata": {},
   "source": [
    "In a normal distribution, the least frequent data appears in the tails of the distribution, which are the areas furthest away from the mean. Specifically, the least frequent data appears at the extremes of the distribution, beyond a certain number of standard deviations from the mean.\n",
    "\n",
    "For a normal distribution, about 68% of the data falls within one standard deviation of the mean, about 95% falls within two standard deviations of the mean, and about 99.7% falls within three standard deviations of the mean. This means that the data in the tails, beyond three standard deviations from the mean, is very infrequent, with a probability of less than 0.3%.\n",
    "\n",
    "For example, if a normal distribution has a mean of 50 and a standard deviation of 10, the least frequent data would be found beyond 3 standard deviations from the mean, which would be beyond a value of 80 or below a value of 20."
   ]
  },
  {
   "cell_type": "code",
   "execution_count": null,
   "id": "dbad59aa-ba96-4e2a-84ac-eca5e1994978",
   "metadata": {},
   "outputs": [],
   "source": []
  }
 ],
 "metadata": {
  "kernelspec": {
   "display_name": "Python 3 (ipykernel)",
   "language": "python",
   "name": "python3"
  },
  "language_info": {
   "codemirror_mode": {
    "name": "ipython",
    "version": 3
   },
   "file_extension": ".py",
   "mimetype": "text/x-python",
   "name": "python",
   "nbconvert_exporter": "python",
   "pygments_lexer": "ipython3",
   "version": "3.10.8"
  }
 },
 "nbformat": 4,
 "nbformat_minor": 5
}
