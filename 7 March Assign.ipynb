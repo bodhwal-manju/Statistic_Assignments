{
 "cells": [
  {
   "cell_type": "markdown",
   "id": "edd5d615-c619-4fe5-9b91-c30943cb296f",
   "metadata": {},
   "source": [
    "# Q1.What are the three measures of central tendency?"
   ]
  },
  {
   "cell_type": "markdown",
   "id": "438c2135-2171-45a9-90a6-3291ee676f10",
   "metadata": {},
   "source": [
    "The three measures of central tendency are:\n",
    "\n",
    "Mean: The mean is the average of a dataset, calculated by adding up all the values in the dataset and then dividing by the number of values. It is a common measure of central tendency used in statistics.\n",
    "\n",
    "Median: The median is the middle value in a dataset when the values are arranged in order from lowest to highest. It is a good measure of central tendency to use when the dataset has extreme values or is not normally distributed.\n",
    "\n",
    "Mode: The mode is the value that appears most frequently in a dataset. It is a useful measure of central tendency when dealing with categorical data or looking for the most common value in a dataset.\n",
    "\n",
    "Each of these measures provides information about the central or typical value of a dataset, but they each have their strengths and weaknesses and are useful in different situations."
   ]
  },
  {
   "cell_type": "markdown",
   "id": "bba49ed4-4bd2-4077-8226-06637c901b25",
   "metadata": {},
   "source": [
    "# Q2. What is the difference between the mean, median, and mode? How are they used to measure the central tendency of a dataset?"
   ]
  },
  {
   "cell_type": "markdown",
   "id": "352ae1cf-ae04-4aee-9d3e-f9b19461374c",
   "metadata": {},
   "source": [
    "The mean, median, and mode are measures of central tendency used in statistics to describe the typical or central value of a dataset.\n",
    "\n",
    "The mean is the sum of all the values in a dataset divided by the number of values. It is sometimes referred to as the average. To calculate the mean, you add up all the values in a dataset and divide by the number of values.\n",
    "\n",
    "The median is the middle value in a dataset when the values are arranged in order from lowest to highest. To find the median, you list all the values in order and select the middle value. If the dataset has an even number of values, then the median is the average of the two middle values.\n",
    "\n",
    "The mode is the value that appears most frequently in a dataset. If no value appears more frequently than any other, then the dataset has no mode.\n",
    "\n",
    "The choice of which measure of central tendency to use depends on the type of data and the specific question being asked.\n",
    "\n",
    "The mean is a good measure to use when the data is normally distributed or when the dataset does not have any extreme values. It is sensitive to outliers, which can affect its value.\n",
    "\n",
    "The median is a good measure to use when the data is not normally distributed or when there are extreme values that would affect the mean. It is not sensitive to outliers, which makes it a more robust measure of central tendency.\n",
    "\n",
    "The mode is useful when looking for the most common value or when dealing with categorical data. It is not as commonly used as the mean or median in statistics.\n",
    "\n",
    "In summary, the mean, median, and mode are all measures of central tendency used to describe a dataset. The choice of which one to use depends on the data and the question being asked."
   ]
  },
  {
   "cell_type": "markdown",
   "id": "2ef2e98e-004e-49b0-99da-6efdddff94d2",
   "metadata": {},
   "source": [
    "# Q3. Measure the three measures of central tendency for the given height data:\n",
    "[178,177,176,177,178.2,178,175,179,180,175,178.9,176.2,177,172.5,178,176.5]"
   ]
  },
  {
   "cell_type": "markdown",
   "id": "f9221c80-4a32-407a-bff0-3fe7682a78e4",
   "metadata": {},
   "source": [
    "To find the three measures of central tendency for the given height data, we can calculate the mean, median, and mode:\n",
    "\n",
    "1.Mean:\n",
    "To find the mean, we add up all the values and divide by the total number of values: (178 + 177 + 176 + 177 + 178.2 + 178 + 175 + 179 + 180 + 175 + 178.9 + 176.2 + 177 + 172.5 + 178 + 176.5) / 16 = 177.3\n",
    "\n",
    "So the mean height is 177.3 cm.\n",
    "\n",
    "2.Median:\n",
    "To find the median, we need to arrange the data in order from lowest to highest and find the middle value. If there are an even number of values, we take the average of the two middle values. 172.5, 175, 175, 176, 176.2, 176.5, 177, 177, 178, 178, 178, 178.2, 178.9, 179, 180\n",
    "\n",
    "We can see that there are 16 values, so the middle value will be the average of the 8th and 9th values:\n",
    "\n",
    "(177 + 178) / 2 = 177.5\n",
    "\n",
    "So the median height is 177.5 cm.\n",
    "\n",
    "3.Mode:\n",
    "To find the mode, we need to find the value that appears most frequently in the dataset. In this case, we can see that the value 178 appears most frequently, so the mode is 178 cm. So the measures of central tendency for the given height data are:\n",
    "\n",
    "Mean: 177.3 cm Median: 177.5 cm Mode: 178 cm"
   ]
  },
  {
   "cell_type": "markdown",
   "id": "c32a400f-8dd8-4ea8-8589-ddecfb4aadbb",
   "metadata": {},
   "source": [
    "# Q4. Find the standard deviation for the given data:\n",
    "[178,177,176,177,178.2,178,175,179,180,175,178.9,176.2,177,172.5,178,176.5]"
   ]
  },
  {
   "cell_type": "markdown",
   "id": "5b01e9bb-1338-4c34-b658-d4e03c0b68ec",
   "metadata": {},
   "source": [
    "To find the standard deviation for the given data, we can use the following formula:\n",
    "\n",
    "standard deviation = sqrt( sum( (x - mean)^2 ) / (n - 1) )\n",
    "\n",
    "where x is each data point, mean is the average of the data, n is the number of data points, and sqrt is the square root function.\n",
    "\n",
    "1.Calculate the mean:\n",
    "We already calculated the mean in the previous question as 177.3 cm.\n",
    "\n",
    "2.Calculate the deviations from the mean:\n",
    "For each data point, we need to subtract the mean and square the result:\n",
    "\n",
    "(178 - 177.3)^2 = 0.49 (177 - 177.3)^2 = 0.09 (176 - 177.3)^2 = 1.69 (177 - 177.3)^2 = 0.09 (178.2 - 177.3)^2 = 0.80 (178 - 177.3)^2 = 0.49 (175 - 177.3)^2 = 5.29 (179 - 177.3)^2 = 2.89 (180 - 177.3)^2 = 7.29 (175 - 177.3)^2 = 5.29 (178.9 - 177.3)^2 = 2.56 (176.2 - 177.3)^2 = 1.21 (177 - 177.3)^2 = 0.09 (172.5 - 177.3)^2 = 22.09 (178 - 177.3)^2 = 0.49 (176.5 - 177.3)^2 = 0.64\n",
    "\n",
    "3.Calculate the sum of the squared deviations:\n",
    "We add up all the squared deviations: 0.49 + 0.09 + 1.69 + 0.09 + 0.80 + 0.49 + 5.29 + 2.89 + 7.29 + 5.29 + 2.56 + 1.21 + 0.09 + 22.09 + 0.49 + 0.64 = 50.34\n",
    "\n",
    "4.Calculate the variance:\n",
    "We divide the sum of the squared deviations by the number of data points minus 1: variance = 50.34 / (16 - 1) = 3.55\n",
    "\n",
    "5.Calculate the standard deviation:\n",
    "We take the square root of the variance: standard deviation = sqrt(3.55) = 1.88\n",
    "\n",
    "So the standard deviation for the given data is approximately 1.88 cm.\n"
   ]
  },
  {
   "cell_type": "markdown",
   "id": "7c95e27d-b30c-4fcb-ad26-4b8cdf2ec9f5",
   "metadata": {},
   "source": [
    "# Q5. How are measures of dispersion such as range, variance, and standard deviation used to describe the spread of a dataset? Provide an example."
   ]
  },
  {
   "cell_type": "markdown",
   "id": "e207f5ea-b9e5-4f24-8b1c-50f873cbb2d4",
   "metadata": {},
   "source": [
    "Measures of dispersion such as range, variance, and standard deviation are used to describe the spread or variability of a dataset. They provide information on how much the data points deviate from the central tendency of the dataset.\n",
    "\n",
    "The range is the simplest measure of dispersion and represents the difference between the largest and smallest values in the dataset. However, it is affected by outliers and can be misleading if there are extreme values.\n",
    "\n",
    "The variance and standard deviation are more robust measures of dispersion that take into account the deviation of each data point from the mean. The variance is calculated by taking the average of the squared deviations, while the standard deviation is the square root of the variance. The standard deviation is often used because it has the same units as the original data and provides a measure of how far each data point is from the mean.\n",
    "\n",
    "For example, consider two datasets:\n",
    "\n",
    "Dataset 1: [2, 4, 6, 8, 10] Dataset 2: [1, 1, 7, 7, 7]\n",
    "\n",
    "Both datasets have the same mean of 6, but they have different spreads. Dataset 1 has a range of 8 and a standard deviation of approximately 2.83, indicating that the data points are relatively close to the mean. On the other hand, Dataset 2 has a range of 6 and a standard deviation of approximately 3, indicating that the data points are more spread out and further from the mean.\n",
    "\n",
    "In this example, the standard deviation provides a more informative measure of dispersion than the range because it takes into account the deviation of each data point from the mean, and is not influenced as much by outliers or extreme values."
   ]
  },
  {
   "cell_type": "markdown",
   "id": "c3fe20e8-c67f-4256-bbe7-1c322beb300a",
   "metadata": {},
   "source": [
    "# Q6. What is a Venn diagram?"
   ]
  },
  {
   "cell_type": "markdown",
   "id": "c6103e6c-747e-44f8-8f9e-0574e0f65357",
   "metadata": {},
   "source": [
    "A Venn diagram is a visual representation of the relationship between sets. It consists of overlapping circles or other shapes, with each circle representing a set and the overlapping region representing the intersection of those sets. The non-overlapping parts of each circle represent the items that are unique to that set.\n",
    "\n",
    "Venn diagrams are commonly used in mathematics, logic, and statistics to visually represent the relationships between different sets of objects or concepts. They are useful for analyzing data and identifying similarities and differences between different groups."
   ]
  },
  {
   "cell_type": "markdown",
   "id": "234cd3cd-705f-457d-ba1d-8887f937abe2",
   "metadata": {},
   "source": [
    "# Q7. For the two given sets A = (2,3,4,5,6,7) & B = (0,2,6,8,10). Find: (i) AUB (ii) A∩B"
   ]
  },
  {
   "cell_type": "markdown",
   "id": "acc602da-8222-47fb-9bde-948bdd31fc1d",
   "metadata": {},
   "source": [
    "To find the union and intersection of two sets A and B, we can use the following definitions:\n",
    "\n",
    "The union of A and B (denoted A U B) is the set of all elements that are in A, or in B, or in both.\n",
    "\n",
    "The intersection of A and B (denoted A ∩ B) is the set of all elements that are in both A and B.\n",
    "\n",
    "Using these definitions, we can find the union and intersection of A and B as follows:\n",
    "\n",
    "(i) A U B: The union of A and B is the set of all elements that are in A, or in B, or in both. So we need to list all the elements that appear in A, in B, or in both:\n",
    "\n",
    "A = (2,3,4,5,6,7) B = (0,2,6,8,10)\n",
    "\n",
    "A U B = (0,2,3,4,5,6,7,8,10)\n",
    "\n",
    "(ii) A ∩ B: The intersection of A and B is the set of all elements that are in both A and B. So we need to list all the elements that appear in both A and B:\n",
    "\n",
    "A = (2,3,4,5,6,7) B = (0,2,6,8,10)\n",
    "\n",
    "A ∩ B = (2,6)\n",
    "\n",
    "Therefore, A U B = (0,2,3,4,5,6,7,8,10) and A ∩ B = (2,6)."
   ]
  },
  {
   "cell_type": "markdown",
   "id": "b7024cfb-2952-4205-ad9d-4df93537feb4",
   "metadata": {},
   "source": [
    "# Q8. What do you understand about skewness in data?"
   ]
  },
  {
   "cell_type": "markdown",
   "id": "2c59d595-e741-4a7a-84e5-3c49b1ee8b29",
   "metadata": {},
   "source": [
    "Skewness is a measure of the asymmetry of a distribution of data. A distribution is said to be symmetric if it is evenly distributed around its mean, with roughly the same number of data points on either side of the mean. In contrast, if one tail of the distribution is longer than the other, the distribution is said to be skewed.\n",
    "\n",
    "Skewness is an important concept in statistics because it can have a significant impact on the interpretation of data. Skewed distributions can lead to misleading conclusions if the skewness is not taken into account. Skewed data can also affect the accuracy of statistical models that assume normality, such as linear regression.\n",
    "\n",
    "There are two types of skewness:\n",
    "\n",
    "1.Positive Skewness/Right Skewed: In a positively skewed distribution, the tail of the distribution is longer on the right-hand side. This means that the mean is greater than the median, and the majority of the data points are clustered on the left-hand side of the distribution.\n",
    "\n",
    "2.Negative Skewness/left Skewed: In a negatively skewed distribution, the tail of the distribution is longer on the left-hand side. This means that the mean is less than the median, and the majority of the data points are clustered on the right-hand side of the distribution.\n",
    "\n",
    "It is important to identify the skewness in the data before performing any statistical analysis. If the data is skewed, it may be necessary to transform the data or use non-parametric statistical methods to obtain accurate results"
   ]
  },
  {
   "cell_type": "markdown",
   "id": "6238b04b-97f1-49fd-8cc7-9e1bd39205d1",
   "metadata": {},
   "source": [
    "# Q9. If a data is right skewed then what will be the position of median with respect to mean?"
   ]
  },
  {
   "cell_type": "markdown",
   "id": "016bd125-2bb2-4680-a0d6-c6a2e2448c01",
   "metadata": {},
   "source": [
    "If a dataset is right-skewed, then the tail of the distribution is longer on the right-hand side. This means that the majority of the data points are clustered on the left-hand side of the distribution, and there are some extremely high values on the right-hand side that pull the mean towards the right. In such cases, the median will be less than the mean.\n",
    "\n",
    "To visualize this, imagine a dataset where the majority of the data points fall in the range of 1 to 10, but there are a few extremely high values like 100, 200, or 1000. These high values will pull the mean towards the right, as it takes into account all the values in the dataset. However, the median only considers the middle value(s) of the dataset, which will be around the 5th or 6th value in this case. Thus, the median will be less than the mean.\n",
    "\n",
    "In summary, if a dataset is right-skewed, the median will be less than the mean."
   ]
  },
  {
   "cell_type": "markdown",
   "id": "0ea46abf-28b4-4636-ae20-2561e7f18b1b",
   "metadata": {},
   "source": [
    "# Q10 Explain the difference between covariance and correlation. How are these measures used in statistical analysis?"
   ]
  },
  {
   "cell_type": "markdown",
   "id": "54022077-df1f-426e-a125-32ad3a3b0e98",
   "metadata": {},
   "source": [
    "Covariance and correlation are both measures of the relationship between two variables, but they are different in terms of their properties and interpretation.\n",
    "\n",
    "Covariance is a measure of how two variables vary together. It is a measure of the extent to which two variables are linearly related. A positive covariance indicates that the two variables tend to increase or decrease together, while a negative covariance indicates that they tend to move in opposite directions. However, the covariance is not standardized and can take on any value, which makes it difficult to compare covariances between different datasets or variables.\n",
    "\n",
    "Correlation, on the other hand, is a standardized measure of the relationship between two variables. It ranges between -1 and 1, with a correlation of 1 indicating a perfect positive relationship, a correlation of -1 indicating a perfect negative relationship, and a correlation of 0 indicating no relationship at all. Correlation can be used to compare the strength and direction of the relationship between different datasets or variables.\n",
    "\n",
    "To calculate covariance and correlation, the formulas are:\n",
    "\n",
    "Covariance: cov(A,B) = sum((A - mean(A)) * (B - mean(B))) / (n-1)\n",
    "\n",
    "Correlation: corr(A,B) = cov(A,B) / (std(A) * std(B))\n",
    "\n",
    "Where A and B are two variables, mean(A) and mean(B) are their respective means, std(A) and std(B) are their respective standard deviations, and n is the number of data points.\n",
    "\n",
    "In summary, the main difference between covariance and correlation is that covariance is a measure of how two variables vary together, while correlation is a standardized measure of the strength and direction of the relationship between two variables."
   ]
  },
  {
   "cell_type": "markdown",
   "id": "38e9c22a-1291-4244-b67e-f9a8915a2d4c",
   "metadata": {},
   "source": [
    "# Q11. What is the formula for calculating the sample mean? Provide an example calculation for a dataset."
   ]
  },
  {
   "cell_type": "markdown",
   "id": "2f3a7b49-04f7-4923-83cb-16ba5879067f",
   "metadata": {},
   "source": [
    "The formula for calculating the sample mean (also known as the arithmetic mean) is:\n",
    "\n",
    "sample mean = (sum of all data points) / (number of data points)\n",
    "\n",
    "For example, suppose we have the following dataset:\n",
    "\n",
    "3, 5, 7, 9, 11\n",
    "\n",
    "To find the sample mean, we first add up all the data points:\n",
    "\n",
    "3 + 5 + 7 + 9 + 11 = 35\n",
    "\n",
    "Then we divide the sum by the number of data points (which is 5 in this case):\n",
    "\n",
    "sample mean = 35 / 5 = 7\n",
    "\n",
    "Therefore, the sample mean for this dataset is 7."
   ]
  },
  {
   "cell_type": "markdown",
   "id": "045e18da-bab7-42bc-9363-377f89c96b71",
   "metadata": {},
   "source": [
    "# Q12. For a normal distribution data what is the relationship between its measure of central tendency?"
   ]
  },
  {
   "cell_type": "markdown",
   "id": "517a9f45-175b-42ee-9c3e-c61691a276b6",
   "metadata": {},
   "source": [
    "For a normal distribution, the mean, median, and mode are all equal to each other. This is because a normal distribution is symmetric around its mean, and the point of highest frequency (the mode) is also located at the mean.\n",
    "\n",
    "In other words, for a normal distribution, the mean, median, and mode are all located at the center of the distribution, which is also the point of highest density. This central tendency is one of the defining characteristics of a normal distribution, and it makes it a useful distribution for many statistical analyses.\n",
    "\n",
    "Note that this relationship between the mean, median, and mode is not necessarily true for other types of distributions, especially those that are skewed or have outliers. In such cases, the mean, median, and mode may not be equal or located at the same point, and different measures of central tendency may be more appropriate depending on the specific characteristics of the data."
   ]
  },
  {
   "cell_type": "markdown",
   "id": "f764262b-56cd-4801-8de2-b972a3592b98",
   "metadata": {},
   "source": [
    "# Q13. How is covariance different from correlation?"
   ]
  },
  {
   "cell_type": "markdown",
   "id": "74bc13d2-1c8e-4d6a-8684-127abeccf87d",
   "metadata": {},
   "source": [
    "Covariance and correlation are both measures of the relationship between two variables, but they differ in terms of their properties and interpretation.\n",
    "\n",
    "Covariance measures the extent to which two variables vary together. It measures the direction of the linear relationship between two variables, but it is not standardized, and its magnitude can be influenced by the scale of the variables. It can take on any value, positive or negative, and its units are the product of the units of the two variables. Covariance can be calculated using the formula:\n",
    "\n",
    "cov(A, B) = E[(A - E[A]) * (B - E[B])]\n",
    "\n",
    "Where A and B are two variables, E[A] and E[B] are their respective expected values.\n",
    "\n",
    "Correlation, on the other hand, is a standardized measure of the linear relationship between two variables. It is a unitless value that ranges between -1 and 1. A correlation of 1 indicates a perfect positive relationship, a correlation of -1 indicates a perfect negative relationship, and a correlation of 0 indicates no relationship at all. Correlation is calculated by dividing the covariance by the product of the standard deviations of the two variables. The formula for correlation is:\n",
    "\n",
    "corr(A, B) = cov(A, B) / (std(A) * std(B))\n",
    "\n",
    "Where A and B are two variables, cov(A, B) is their covariance, and std(A) and std(B) are their respective standard deviations.\n",
    "\n",
    "In summary, the main differences between covariance and correlation are:\n",
    "\n",
    "Covariance measures the direction of the linear relationship between two variables, while correlation measures both the direction and the strength of the linear relationship.\n",
    "\n",
    "Covariance is not standardized, while correlation is standardized and ranges between -1 and 1.\n",
    "\n",
    "Covariance can be influenced by the scale of the variables, while correlation is unaffected by changes in the scale of the variables."
   ]
  },
  {
   "cell_type": "markdown",
   "id": "e878501e-b386-4c32-ac7c-834ca18729cd",
   "metadata": {},
   "source": [
    "# Q14. How do outliers affect measures of central tendency and dispersion? Provide an example."
   ]
  },
  {
   "cell_type": "markdown",
   "id": "4620d3d4-63b0-49bb-b56b-705cc5c4a67d",
   "metadata": {},
   "source": [
    "Outliers are extreme values in a dataset that are significantly different from the other values in the distribution. They can have a significant impact on measures of central tendency and dispersion.\n",
    "\n",
    "In terms of measures of central tendency, outliers can significantly affect the mean. Since the mean is calculated by summing all the values and dividing by the number of values, outliers can disproportionately influence the sum and thus the mean. For example, consider the following dataset: 1, 2, 3, 4, 5, 10. The mean of this dataset is (1+2+3+4+5+10)/6 = 25/6 = 4.17. However, if we remove the outlier (10), the mean becomes (1+2+3+4+5)/5 = 15/5 = 3, which is significantly different.\n",
    "\n",
    "In terms of measures of dispersion, outliers can significantly affect the range, variance, and standard deviation. The range is the difference between the highest and lowest values in the dataset, so a single outlier can greatly increase the range. Similarly, the variance and standard deviation are both measures of how spread out the data is around the mean, so outliers can greatly increase these measures. For example, consider the following dataset: 1, 2, 3, 4, 5, 100. The range of this dataset is 99, the variance is 866, and the standard deviation is 29.43. However, if we remove the outlier (100), the range becomes 4, the variance becomes 2.5, and the standard deviation becomes 1.58.\n",
    "\n",
    "In summary, outliers can have a significant impact on measures of central tendency and dispersion, and it is important to carefully consider the presence of outliers when analyzing a dataset"
   ]
  },
  {
   "cell_type": "markdown",
   "id": "8e04c13b-7a81-4044-ae60-c9955933ddd8",
   "metadata": {},
   "source": [
    "\n"
   ]
  },
  {
   "cell_type": "code",
   "execution_count": null,
   "id": "2e37e4b4-6c08-4f58-82c4-2abbafd7b1c5",
   "metadata": {},
   "outputs": [],
   "source": []
  }
 ],
 "metadata": {
  "kernelspec": {
   "display_name": "Python 3 (ipykernel)",
   "language": "python",
   "name": "python3"
  },
  "language_info": {
   "codemirror_mode": {
    "name": "ipython",
    "version": 3
   },
   "file_extension": ".py",
   "mimetype": "text/x-python",
   "name": "python",
   "nbconvert_exporter": "python",
   "pygments_lexer": "ipython3",
   "version": "3.10.8"
  }
 },
 "nbformat": 4,
 "nbformat_minor": 5
}
